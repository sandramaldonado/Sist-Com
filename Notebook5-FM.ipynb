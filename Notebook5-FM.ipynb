{
 "cells": [
  {
   "cell_type": "markdown",
   "metadata": {},
   "source": [
    "Amplitud señal portadora y amplitud señal modulada"
   ]
  },
  {
   "cell_type": "markdown",
   "metadata": {},
   "source": [
    "la amplitud de la se;al portadora es menor al de la modulada"
   ]
  },
  {
   "cell_type": "markdown",
   "metadata": {},
   "source": [
    "Amplitud señal portadora y frecuencia señal modulada"
   ]
  },
  {
   "cell_type": "markdown",
   "metadata": {},
   "source": [
    "la frecuencia de la se;al portadora es mas seguida que de la modulada"
   ]
  },
  {
   "cell_type": "markdown",
   "metadata": {},
   "source": [
    "si la frecuencia moduladora llega a ser mayor que la portadora no podra haber señal modulantey no existira grafica"
   ]
  },
  {
   "cell_type": "code",
   "execution_count": null,
   "metadata": {},
   "outputs": [],
   "source": []
  }
 ],
 "metadata": {
  "kernelspec": {
   "display_name": "Python 3",
   "language": "python",
   "name": "python3"
  },
  "language_info": {
   "codemirror_mode": {
    "name": "ipython",
    "version": 3
   },
   "file_extension": ".py",
   "mimetype": "text/x-python",
   "name": "python",
   "nbconvert_exporter": "python",
   "pygments_lexer": "ipython3",
   "version": "3.7.1"
  }
 },
 "nbformat": 4,
 "nbformat_minor": 2
}
